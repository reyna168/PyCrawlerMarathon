{
 "cells": [
  {
   "cell_type": "markdown",
   "metadata": {},
   "source": [
    "# YAHOO電影爬蟲練習\n",
    "## 練習爬取電影放映資訊。必須逐步獲取電影的代號、放映地區、放映日期後，再送出查詢給伺服器。"
   ]
  },
  {
   "cell_type": "code",
   "execution_count": 13,
   "metadata": {},
   "outputs": [],
   "source": [
    "import requests\n",
    "import re\n",
    "from bs4 import BeautifulSoup"
   ]
  },
  {
   "cell_type": "markdown",
   "metadata": {},
   "source": [
    "### 先搜尋全部的電影代號(ID)資訊"
   ]
  },
  {
   "cell_type": "code",
   "execution_count": 14,
   "metadata": {},
   "outputs": [
    {
     "name": "stdout",
     "output_type": "stream",
     "text": [
      "Movie: 金魚俱樂部, ID: 10721\n",
      "Movie: 諜影殺機, ID: 10742\n",
      "Movie: 蝙蝠俠：開戰時刻, ID: 10674\n",
      "Movie: 黑暗騎士：黎明昇起, ID: 10673\n",
      "Movie: 黑暗騎士, ID: 10672\n",
      "Movie: 火線獵殺令, ID: 10663\n",
      "Movie: 當愛再來的時候, ID: 10660\n",
      "Movie: 放飛大丈夫, ID: 10651\n",
      "Movie: 奪魂索, ID: 10650\n",
      "Movie: 罪人的控訴, ID: 10648\n",
      "Movie: 謝謝你愛過我, ID: 10637\n",
      "Movie: 猛鬼樂園, ID: 10629\n",
      "Movie: 血色羔羊, ID: 10628\n",
      "Movie: 現在，很想見你, ID: 10626\n",
      "Movie: 愛美獎行動, ID: 10600\n",
      "Movie: 電影版吹響吧！上低音號～莉茲與青鳥～, ID: 10655\n",
      "Movie: 電影版 吹響吧！上低音號～想傳達的旋律～, ID: 10654\n",
      "Movie: 電影版 吹響吧！上低音號～歡迎加入北宇治高中管樂社～, ID: 10653\n",
      "Movie: 關不住的誘惑, ID: 10741\n",
      "Movie: 永不放棄：詹姆斯艾利森, ID: 10652\n",
      "Movie: 雙面遊戲, ID: 10642\n",
      "Movie: 巴黎寂寞不打烊, ID: 10636\n",
      "Movie: 惡夜救援, ID: 10634\n",
      "Movie: 響HIBIKI, ID: 10627\n",
      "Movie: 全境入侵, ID: 10625\n",
      "Movie: 你的鳥兒會唱歌, ID: 10618\n",
      "Movie: 怨鈴, ID: 10604\n",
      "Movie: 謊畫情人, ID: 10577\n",
      "Movie: 靠北少女, ID: 10575\n",
      "Movie: 在你身邊, ID: 10567\n",
      "Movie: 說再見前的30分鐘, ID: 10561\n",
      "Movie: 1/2的魔法, ID: 10505\n",
      "Movie: 靈異405號房, ID: 10687\n",
      "Movie: 來自深淵 深沉靈魂的黎明  4DX/MX4D, ID: 10658\n",
      "Movie: 天氣之子, ID: 10645\n",
      "Movie: 喪屍來鬥陣, ID: 10644\n",
      "Movie: 末代皇帝, ID: 10640\n",
      "Movie: 白髮魔女傳, ID: 10639\n",
      "Movie: 誰殺了唐吉訶德, ID: 10624\n",
      "Movie: 奇蹟救援, ID: 10605\n",
      "Movie: 奪命隧道, ID: 10599\n",
      "Movie: 海邊走走, ID: 10495\n",
      "Movie: 劇場版白箱, ID: 10621\n",
      "Movie: 老娘就要這麼活, ID: 10611\n",
      "Movie: 黑暗戰域, ID: 10606\n",
      "Movie: 陪你玩最大, ID: 10602\n",
      "Movie: 金都, ID: 10530\n",
      "Movie: 現屍報, ID: 10619\n",
      "Movie: 壞教育, ID: 10617\n",
      "Movie: 鎖命佈局, ID: 10616\n",
      "Movie: 正在相愛嗎？, ID: 10615\n",
      "Movie: 見鬼的戀愛季節, ID: 10612\n",
      "Movie: 抽屍剝繭, ID: 10591\n",
      "Movie: 流感, ID: 10583\n",
      "Movie: 蜈蚣降, ID: 10586\n",
      "Movie: 數碼寶貝 LAST EVOLUTION 絆, ID: 10572\n",
      "Movie: 吞噬, ID: 10560\n",
      "Movie: 美好拾光公司, ID: 10541\n",
      "Movie: 搭火車旅行好吃驚, ID: 10492\n",
      "Movie: 海上鋼琴師4K數位修復, ID: 10613\n",
      "Movie: 知道天空有多藍的人啊, ID: 10526\n",
      "Movie: 搞鬼, ID: 10570\n",
      "Movie: 侏羅紀世界：殞落國度, ID: 10595\n",
      "Movie: 我的英雄學院劇場版：英雄新世紀, ID: 10481\n",
      "Movie: 絕命直播, ID: 10548\n",
      "Movie: 託陰2：布拉姆回來了, ID: 10540\n",
      "Movie: 迷雁返家路, ID: 10533\n",
      "Movie: 抓住救命稻草的野獸們, ID: 10507\n",
      "Movie: 第六感生死戀, ID: 10504\n",
      "Movie: 我出去醫下, ID: 10494\n",
      "Movie: 刺激1995, ID: 10518\n",
      "Movie: 安雅的回家路, ID: 10516\n",
      "Movie: 劇場版 不起眼女主角培育法 Fine, ID: 10486\n",
      "Movie: 狂飆一夢, ID: 10506\n",
      "Movie: 大畫特務, ID: 10478\n",
      "Movie: 明明會說話, ID: 10440\n",
      "Movie: 艾瑪, ID: 10396\n",
      "Movie: 女鬼橋, ID: 10437\n",
      "Movie: 極地守護犬, ID: 10383\n",
      "Movie: 隱形人, ID: 10359\n",
      "Movie: 李察朱威爾事件, ID: 10368\n",
      "Movie: 音速小子, ID: 9246\n",
      "Movie: 逃出夢幻島, ID: 10485\n",
      "Movie: 全境失控, ID: 10426\n",
      "Movie: 猛禽小隊：小丑女大解放, ID: 10268\n",
      "Movie: 1917, ID: 10189\n",
      "Movie: 你的情歌, ID: 10407\n",
      "Movie: 巧虎電影：英雄遊樂園, ID: 10429\n",
      "Movie: 不完美的正義, ID: 10243\n",
      "Movie: 星星知我心, ID: 10409\n",
      "Movie: 驅魔直播, ID: 10375\n",
      "Movie: BanG Dream！ FILM LIVE, ID: 10271\n",
      "Movie: Hello World, ID: 10302\n",
      "Movie: 電影版 吹響吧！上低音號～誓言的終章～, ID: 10306\n",
      "Movie: 電影版 吹響吧！上低音號～歡迎加入北宇治高中管樂社, ID: 10307\n",
      "Movie: 電影版 吹響吧！上低音號～想傳達的旋律, ID: 10305\n",
      "Movie: 青春豬頭少年不會夢到懷夢美少女, ID: 10146\n",
      "Movie: 捍衛任務3：全面開戰, ID: 9525\n",
      "Movie: 大象席地而坐, ID: 9236\n",
      "Movie: 夏目友人帳劇場版：緣結空蟬, ID: 8801\n",
      "Movie: 電影版吹響吧！上低音號～莉茲與青鳥, ID: 8286\n",
      "Movie: 小偷家族, ID: 8205\n",
      "Movie: 遊戲人生Zero, ID: 7546\n",
      "Movie: 一一, ID: 6963\n",
      "Movie: 魔導少年龍之淚, ID: 6884\n",
      "Movie: 刀劍神域劇場版－序列爭戰, ID: 6600\n",
      "Movie: 紅色情深 經典數位修復, ID: 6307\n",
      "Movie: 白色情迷 經典數位修復, ID: 6306\n",
      "Movie: 藍色情挑 經典數位修復, ID: 6302\n",
      "Movie: 一首搖滾上月球, ID: 4887\n",
      "Movie: 錢不夠用2, ID: 3026\n"
     ]
    }
   ],
   "source": [
    "# 查看目前上映那些電影，並擷取出其ID資訊\n",
    "url = 'https://movies.yahoo.com.tw/'\n",
    "resp = requests.get(url)\n",
    "resp.encoding = 'utf-8'\n",
    "\n",
    "soup = BeautifulSoup(resp.text, 'lxml')\n",
    "html = soup.find(\"select\", attrs={'name':'movie_id'})\n",
    "movie_item = html.find_all(\"option\", attrs={'data-name':re.compile('.*')})\n",
    "\n",
    "for p in movie_item:\n",
    "    print(\"Movie: %s, ID: %s\" % (p[\"data-name\"], p[\"value\"]))"
   ]
  },
  {
   "cell_type": "markdown",
   "metadata": {},
   "source": [
    "### 指定你有興趣的電影其ID，然後查詢其放映地區資訊。"
   ]
  },
  {
   "cell_type": "code",
   "execution_count": 17,
   "metadata": {},
   "outputs": [],
   "source": [
    "# 參考前一個步驟中擷取到的ID資訊，並指定ID\n",
    "movie_id = 10648"
   ]
  },
  {
   "cell_type": "code",
   "execution_count": 18,
   "metadata": {},
   "outputs": [
    {
     "name": "stdout",
     "output_type": "stream",
     "text": [
      "放映地區: 台北市, 代號(area_id): 28\n",
      "放映地區: 新北市, 代號(area_id): 8\n",
      "放映地區: 桃園, 代號(area_id): 16\n",
      "放映地區: 新竹, 代號(area_id): 20\n",
      "放映地區: 苗栗, 代號(area_id): 15\n",
      "放映地區: 台中, 代號(area_id): 2\n",
      "放映地區: 台南, 代號(area_id): 10\n",
      "放映地區: 高雄, 代號(area_id): 17\n",
      "放映地區: 花蓮, 代號(area_id): 12\n"
     ]
    }
   ],
   "source": [
    "url = 'https://movies.yahoo.com.tw/api/v1/areas_by_movie_theater'\n",
    "payload = {'movie_id':str(movie_id)}\n",
    "\n",
    "# 模擬一個header\n",
    "headers = {\n",
    "    'authority': 'movies.yahoo.com.tw',\n",
    "    'method': 'GET',\n",
    "    'path': '/api/v1/areas_by_movie_theater?movie_id=' + str(movie_id),\n",
    "    'scheme': 'https',\n",
    "    'accept': 'application/json, text/javascript, */*; q=0.01',\n",
    "    'accept-encoding': 'gzip, deflate, br',\n",
    "    'accept-language': 'zh-TW,zh;q=0.9,en-US;q=0.8,en;q=0.7,zh-CN;q=0.6',\n",
    "    'cookie': 'rxx=9s3x2fws06.1g16irnc&v=1; _ga=GA1.3.2056742944.1551651301; GUC=AQEBAQFczFpdm0IfmwSB&s=AQAAACoo4N5D&g=XMsVBw; BX=4hkdk1decm57t&b=3&s=mr; _ga=GA1.4.2056742944.1551651301; nexagesuid=82843256dd234e8e91aa73f2062f8218; browsed_movie=eyJpdiI6IlJXWWtiSWJaZlNGK2MxQnhscnVUYWc9PSIsInZhbHVlIjoiMXRhMmVHRXRIeUNjc1RBWDJzdGYwbnlIQURmWGsrcjJSMzhkbkcraDNJVUNIZEZsbzU3amlFcVZ1NzlmazJrTGpoMjVrbHk1YmpoRENXaHZTOUw1TmI2ZTZVWHdOejZQZm16RmVuMWlHTTJLaTZLVFZZVkFOMDlTd1wvSGltcytJIiwibWFjIjoiZWQ2ZjA4MmVjZmZlYjlmNjJmYmY2NGMyMDI0Njc0NWViYjVkOWE2NDg0N2RhODMxZjBjZDhiMmJhZTc2MDZhYiJ9; avi=eyJpdiI6Im1NeWFJRlVRWDR1endEcGRGUGJUbVE9PSIsInZhbHVlIjoickRpU3JuUytmcGl6cjF5OW0rNU9iZz09IiwibWFjIjoiY2VmY2NkNzZmM2NhNjY5YzlkOTcyNjE5OGEyMzU0NWYxOTdmMDRkMDY3OWNmMmZjOTMxYjc5MjI5N2Q5NGE5MiJ9; cmp=t=1559391030&j=0; _gid=GA1.4.779543841.1559391031; XSRF-TOKEN=eyJpdiI6IkhpS2hGcDRQaHlmWUJmaHdSS2Q2bHc9PSIsInZhbHVlIjoiOUVoNFk4OHI1UUZmUWRtYXhza0MyWjJSTlhlZ3RnT0VGeVJPN2JuczVRMGRFdWt2OUlsamVKeHRobFwvcHBGM0dhU3VyMXNGTHlsb2dVM2l0U1hpUGxBPT0iLCJtYWMiOiJkZWU4YzJhNjAxMTY3MzE4Y2ExNWIxYmE1ZjE1YWZlZTlhOTcyYjc4M2RlZGY4ZWNjZDYyMTA2NGYwZGViMzc2In0%3D; m_s=eyJpdiI6InpsZHZ2Tk1BZ0dxaHhETml1RjBnUXc9PSIsInZhbHVlIjoiSkNGeHUranRoXC85bDFiaDhySTJqNkJRcWdjWUxjeVRJSHVYZ1wvd2d4bWJZUTUrSHVDM0lUcW5KNHdETFZ4T1lieU81OUhzc1VoUXhZcWk0UDZSQXVFdz09IiwibWFjIjoiYmJkMDJkMDhlODIzMzcyMWY4M2NmYWNjNGVlOWRjMDIwZmVmNzAyMjE3Yzg3ZGY3ODBkZWEzZTI4MTI5ZWNmOSJ9; _gat=1; nexagesd=10',\n",
    "    'dnt': '1',\n",
    "    'mv-authorization': '21835b082e15b91a69b3851eec7b31b82ce82afb',\n",
    "    'referer': 'https://movies.yahoo.com.tw/',\n",
    "    'user-agent': 'Mozilla/5.0 (Windows NT 10.0; Win64; x64) AppleWebKit/537.36 (KHTML, like Gecko) Chrome/74.0.3729.169 Safari/537.36',\n",
    "    'x-requested-with': 'XMLHttpRequest',\n",
    "}\n",
    "    \n",
    "resp = requests.get(url, params=payload, headers=headers)\n",
    "#print(resp.json())  # 若有需要，列印出json原始碼\n",
    "\n",
    "# 這裡回傳的格式是JSON格式的資料，要解析JSON擷取資料\n",
    "for p in resp.json():\n",
    "    print('放映地區: {0}, 代號(area_id): {1}'.format(p['title'], p['area_id']))"
   ]
  },
  {
   "cell_type": "markdown",
   "metadata": {},
   "source": [
    "### 指定你想要觀看的放映地區，查詢有上映電影的場次日期"
   ]
  },
  {
   "cell_type": "code",
   "execution_count": 19,
   "metadata": {},
   "outputs": [],
   "source": [
    "# 指定放映地區\n",
    "area_id = 17"
   ]
  },
  {
   "cell_type": "code",
   "execution_count": 20,
   "metadata": {},
   "outputs": [
    {
     "name": "stdout",
     "output_type": "stream",
     "text": [
      "六月 4\n",
      "六月 5\n",
      "六月 6\n",
      "六月 7\n",
      "六月 8\n"
     ]
    }
   ],
   "source": [
    "# 向網站發送請求\n",
    "url = 'https://movies.yahoo.com.tw/movietime_result.html'\n",
    "payload = {'movie_id':str(movie_id), 'area_id':str(area_id)}\n",
    "resp = requests.get(url, params=payload)\n",
    "resp.encoding = 'utf-8'\n",
    "\n",
    "soup = BeautifulSoup(resp.text, 'lxml')\n",
    "movie_date = soup.find_all(\"label\", attrs={'for':re.compile(\"date_[\\d]\")})\n",
    "\n",
    "# 列印播放日期\n",
    "for date in movie_date:\n",
    "    print(\"%s %s\" % (date.p.string, date.h3.string))"
   ]
  },
  {
   "cell_type": "markdown",
   "metadata": {},
   "source": [
    "### 最後指定觀看的日期，查詢並列印出放映的電影院、放映類型(數位、3D、IMAX 3D...)、放映時間等資訊。"
   ]
  },
  {
   "cell_type": "code",
   "execution_count": 23,
   "metadata": {},
   "outputs": [],
   "source": [
    "# 選定要觀看的日期\n",
    "date = \"2020-06-04\""
   ]
  },
  {
   "cell_type": "code",
   "execution_count": 26,
   "metadata": {},
   "outputs": [
    {
     "name": "stdout",
     "output_type": "stream",
     "text": [
      "------------------------------------------------------------------------------\n",
      "高雄大遠百威秀影城\n",
      "數位\n",
      "2020-06-04 16:10:00\n",
      "2020-06-04 20:25:00\n",
      "2020-06-04 22:45:00\n",
      "------------------------------------------------------------------------------\n",
      "MLD影城\n",
      "數位\n",
      "2020-06-04 15:20:00\n",
      "2020-06-04 19:10:00\n"
     ]
    }
   ],
   "source": [
    "# 向網站發送請求，獲取上映的電影院及時間資訊\n",
    "url = \"https://movies.yahoo.com.tw/ajax/pc/get_schedule_by_movie\"\n",
    "payload = {'movie_id':str(movie_id),\n",
    "           'date':date,\n",
    "           'area_id':str(area_id),\n",
    "           'theater_id':'',\n",
    "           'datetime':'',\n",
    "           'movie_type_id':''}\n",
    "\n",
    "resp = requests.get(url, params=payload)\n",
    "#print(resp.json()['view'])  # 若有需要，列印出json原始碼\n",
    "\n",
    "soup = BeautifulSoup(resp.json()['view'], 'lxml')\n",
    "html = soup.find_all(\"ul\", attrs={'data-theater_name':re.compile(\".*\")})\n",
    "\n",
    "for h in html:\n",
    "    \n",
    "    print('------------------------------------------------------------------------------')\n",
    "    print(h['data-theater_name'])#他是tag裡的東西\n",
    "    print(h.find('span',class_=\"tapR\").text)#他不是tag裡面的東西，所以要find他的text\n",
    "    \n",
    "    #時間表\n",
    "    for d in h.find_all('input',class_=\"gabtn\"):#他有很多個，所以要先全找出來 find_all再一個一個取\n",
    "        print(d['value'])#他是tag裡的東西\n",
    "    \n",
    "   \n",
    "\n"
   ]
  },
  {
   "cell_type": "code",
   "execution_count": 16,
   "metadata": {},
   "outputs": [
    {
     "name": "stdout",
     "output_type": "stream",
     "text": [
      "----------------------------------------------------------------------\n",
      "電影院:  台北美麗華大直影城\n",
      "放映類型:  數位\n",
      "2019-08-21 09:00:00\n",
      "2019-08-21 11:10:00\n",
      "2019-08-21 13:15:00\n",
      "2019-08-21 15:20:00\n",
      "2019-08-21 19:30:00\n",
      "2019-08-21 21:40:00\n",
      "2019-08-21 22:30:00\n",
      "----------------------------------------------------------------------\n",
      "電影院:  台北新光影城\n",
      "放映類型:  數位\n",
      "2019-08-21 10:00:00\n",
      "2019-08-21 14:50:00\n",
      "2019-08-21 19:30:00\n",
      "----------------------------------------------------------------------\n",
      "電影院:  台北in89豪華數位影城\n",
      "放映類型:  數位\n",
      "2019-08-21 09:30:00\n",
      "2019-08-21 11:20:00\n",
      "2019-08-21 13:15:00\n",
      "2019-08-21 15:10:00\n",
      "2019-08-21 16:10:00\n",
      "2019-08-21 17:10:00\n",
      "2019-08-21 18:05:00\n",
      "2019-08-21 19:10:00\n",
      "2019-08-21 21:10:00\n",
      "2019-08-21 23:10:00\n",
      "2019-08-22 01:10:00\n",
      "----------------------------------------------------------------------\n",
      "電影院:  台北日新威秀影城\n",
      "放映類型:  數位\n",
      "2019-08-21 09:00:00\n",
      "2019-08-21 10:55:00\n",
      "2019-08-21 12:50:00\n",
      "2019-08-21 14:45:00\n",
      "2019-08-21 16:40:00\n",
      "2019-08-21 18:35:00\n",
      "2019-08-21 20:35:00\n",
      "----------------------------------------------------------------------\n",
      "電影院:  喜滿客絕色影城\n",
      "放映類型:  數位\n",
      "2019-08-21 10:00:00\n",
      "2019-08-21 11:55:00\n",
      "2019-08-21 13:50:00\n",
      "2019-08-21 15:45:00\n",
      "2019-08-21 17:40:00\n",
      "2019-08-21 19:35:00\n",
      "2019-08-21 21:30:00\n",
      "----------------------------------------------------------------------\n",
      "電影院:  台北信義威秀影城\n",
      "放映類型:  數位\n",
      "2019-08-21 09:00:00\n",
      "2019-08-21 11:00:00\n",
      "2019-08-21 13:00:00\n",
      "2019-08-21 15:00:00\n",
      "2019-08-21 17:00:00\n",
      "2019-08-21 19:00:00\n",
      "2019-08-21 21:00:00\n",
      "2019-08-21 23:00:00\n",
      "----------------------------------------------------------------------\n",
      "電影院:  喜滿客京華影城\n",
      "放映類型:  數位\n",
      "2019-08-21 10:30:00\n",
      "2019-08-21 12:30:00\n",
      "2019-08-21 14:30:00\n",
      "2019-08-21 16:30:00\n",
      "2019-08-21 18:30:00\n",
      "2019-08-21 20:30:00\n",
      "2019-08-21 22:30:00\n",
      "----------------------------------------------------------------------\n",
      "電影院:  京站威秀影城\n",
      "放映類型:  數位\n",
      "2019-08-21 09:00:00\n",
      "2019-08-21 11:00:00\n",
      "2019-08-21 13:00:00\n",
      "2019-08-21 15:00:00\n",
      "2019-08-21 17:00:00\n",
      "2019-08-21 19:00:00\n",
      "2019-08-21 21:00:00\n",
      "----------------------------------------------------------------------\n",
      "電影院:  喜樂時代影城南港店\n",
      "放映類型:  數位\n",
      "2019-08-21 10:20:00\n",
      "2019-08-21 11:10:00\n",
      "2019-08-21 12:20:00\n",
      "2019-08-21 13:10:00\n",
      "2019-08-21 14:20:00\n",
      "2019-08-21 15:10:00\n",
      "2019-08-21 16:20:00\n",
      "2019-08-21 17:10:00\n",
      "2019-08-21 18:20:00\n",
      "2019-08-21 19:15:00\n",
      "2019-08-21 20:20:00\n",
      "2019-08-21 21:15:00\n",
      "2019-08-21 22:20:00\n"
     ]
    }
   ],
   "source": []
  },
  {
   "cell_type": "code",
   "execution_count": null,
   "metadata": {},
   "outputs": [],
   "source": []
  }
 ],
 "metadata": {
  "kernelspec": {
   "display_name": "Python 3",
   "language": "python",
   "name": "python3"
  },
  "language_info": {
   "codemirror_mode": {
    "name": "ipython",
    "version": 3
   },
   "file_extension": ".py",
   "mimetype": "text/x-python",
   "name": "python",
   "nbconvert_exporter": "python",
   "pygments_lexer": "ipython3",
   "version": "3.7.4"
  }
 },
 "nbformat": 4,
 "nbformat_minor": 2
}
