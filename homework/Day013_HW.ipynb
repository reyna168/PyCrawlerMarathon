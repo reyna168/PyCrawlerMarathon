{
 "cells": [
  {
   "cell_type": "markdown",
   "metadata": {},
   "source": [
    "# PTT 網路爬蟲實作練習\n",
    "\n",
    "\n",
    "* 能夠利用 Request + BeatifulSour 撰寫爬蟲，並存放到合適的資料結構\n"
   ]
  },
  {
   "cell_type": "markdown",
   "metadata": {},
   "source": [
    "## 作業目標\n",
    "\n",
    "根據範例 ，完成以下問題：\n",
    "\n",
    "* ① 印出最新文章的「作者」「標題」「時間」\n",
    "* ② 印出第一頁所有文章的「作者」「標題」「時間」\n"
   ]
  },
  {
   "cell_type": "markdown",
   "metadata": {},
   "source": [
    "### ① 印出最新文章的「作者」「標題」「時間」"
   ]
  },
  {
   "cell_type": "code",
   "execution_count": 13,
   "metadata": {},
   "outputs": [
    {
     "name": "stdout",
     "output_type": "stream",
     "text": [
      "Re: [討論] 哈登適合當建隊基石嗎 justgetup  6/03\n",
      "[新聞] 不是每個紀錄都等著被打破！NBA史上最難 Kowloon  6/03\n",
      "[情報] 本季總冠軍戰G7可能在10月12日開打 thnlkj0665  6/03\n",
      "[花邊] Wade講到2010年他跟LBJ為何沒跟Rose組隊 pneumo  6/03\n",
      "Re: [新聞] 波波維奇怒批川普「躲在白宮的懦夫」 竟有 markwu123  6/03\n",
      "[情報] 整個90年代沒有三連敗，Jordan帶隊神跡 HOlajuwon  6/03\n",
      "[公告] 板規v6.8 Vedan  5/24\n",
      "[公告] 版主上任相關事項  qazwsx879345 10/25\n",
      "[情報] SEASON Schedule 賽程 March 19–20 Acetoxy  3/02\n",
      "[公告] 第一次被退文，可在三天後刪除退文 Vedan  3/09\n",
      "[公告] 板務說明 (發錢) Vedan  4/03\n"
     ]
    }
   ],
   "source": [
    "import requests\n",
    "from bs4 import BeautifulSoup\n",
    "\n",
    "url = 'https://www.ptt.cc/bbs/NBA/index.html'\n",
    "r = requests.get(url)\n",
    "\n",
    "soup = BeautifulSoup(r.text, \"html5lib\")\n",
    "\n",
    "for d in soup.find_all(class_=\"r-ent\"):\n",
    "    print(d.find(class_=\"title\").text.replace('\\t', '').replace('\\n', ''),d.find(class_=\"author\").text,d.find(class_=\"date\").text)\n",
    "\n",
    "    "
   ]
  },
  {
   "cell_type": "markdown",
   "metadata": {},
   "source": [
    "### ② 印出第一頁所有文章的「作者」「標題」「時間」"
   ]
  },
  {
   "cell_type": "code",
   "execution_count": 14,
   "metadata": {},
   "outputs": [
    {
     "name": "stdout",
     "output_type": "stream",
     "text": [
      "Re: [討論] 哈登適合當建隊基石嗎 justgetup  6/03\n",
      "[新聞] 不是每個紀錄都等著被打破！NBA史上最難 Kowloon  6/03\n",
      "[情報] 本季總冠軍戰G7可能在10月12日開打 thnlkj0665  6/03\n",
      "[花邊] Wade講到2010年他跟LBJ為何沒跟Rose組隊 pneumo  6/03\n",
      "Re: [新聞] 波波維奇怒批川普「躲在白宮的懦夫」 竟有 markwu123  6/03\n",
      "[情報] 整個90年代沒有三連敗，Jordan帶隊神跡 HOlajuwon  6/03\n",
      "[公告] 板規v6.8 Vedan  5/24\n",
      "[公告] 版主上任相關事項  qazwsx879345 10/25\n",
      "[情報] SEASON Schedule 賽程 March 19–20 Acetoxy  3/02\n",
      "[公告] 第一次被退文，可在三天後刪除退文 Vedan  3/09\n",
      "[公告] 板務說明 (發錢) Vedan  4/03\n"
     ]
    }
   ],
   "source": [
    "import requests\n",
    "from bs4 import BeautifulSoup\n",
    "\n",
    "url = 'https://www.ptt.cc/bbs/NBA/index.html'\n",
    "r = requests.get(url)\n",
    "\n",
    "soup = BeautifulSoup(r.text, \"html5lib\")\n",
    "\n",
    "for d in soup.find_all(class_=\"r-ent\"):\n",
    "    print(d.find(class_=\"title\").text.replace('\\t', '').replace('\\n', ''),d.find(class_=\"author\").text,d.find(class_=\"date\").text)\n"
   ]
  },
  {
   "cell_type": "markdown",
   "metadata": {},
   "source": [
    "### ③ 試著爬爬看其他版的文章"
   ]
  },
  {
   "cell_type": "code",
   "execution_count": null,
   "metadata": {},
   "outputs": [],
   "source": [
    "'''\n",
    "Your Code\n",
    "'''"
   ]
  }
 ],
 "metadata": {
  "kernelspec": {
   "display_name": "Python 3",
   "language": "python",
   "name": "python3"
  },
  "language_info": {
   "codemirror_mode": {
    "name": "ipython",
    "version": 3
   },
   "file_extension": ".py",
   "mimetype": "text/x-python",
   "name": "python",
   "nbconvert_exporter": "python",
   "pygments_lexer": "ipython3",
   "version": "3.7.4"
  }
 },
 "nbformat": 4,
 "nbformat_minor": 2
}
