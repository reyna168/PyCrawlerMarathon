{
 "cells": [
  {
   "cell_type": "markdown",
   "metadata": {},
   "source": [
    "# PTT 網路爬蟲實作練習\n",
    "\n",
    "\n",
    "* 能夠利用 Request + BeatifulSour 撰寫爬蟲，並存放到合適的資料結構\n"
   ]
  },
  {
   "cell_type": "markdown",
   "metadata": {},
   "source": [
    "## 作業目標\n",
    "\n",
    "根據範例 ，完成以下問題：\n",
    "\n",
    "* ① 印出最新文章的「作者」「標題」「時間」\n",
    "* ② 印出第一頁所有文章的「作者」「標題」「時間」\n"
   ]
  },
  {
   "cell_type": "markdown",
   "metadata": {},
   "source": [
    "### ① 印出最新文章的「作者」「標題」「時間」"
   ]
  },
  {
   "cell_type": "code",
   "execution_count": 13,
   "metadata": {},
   "outputs": [
    {
     "name": "stdout",
     "output_type": "stream",
     "text": [
      "Re: [討論] 哈登適合當建隊基石嗎 justgetup  6/03\n",
      "[新聞] 不是每個紀錄都等著被打破！NBA史上最難 Kowloon  6/03\n",
      "[情報] 本季總冠軍戰G7可能在10月12日開打 thnlkj0665  6/03\n",
      "[花邊] Wade講到2010年他跟LBJ為何沒跟Rose組隊 pneumo  6/03\n",
      "Re: [新聞] 波波維奇怒批川普「躲在白宮的懦夫」 竟有 markwu123  6/03\n",
      "[情報] 整個90年代沒有三連敗，Jordan帶隊神跡 HOlajuwon  6/03\n",
      "[公告] 板規v6.8 Vedan  5/24\n",
      "[公告] 版主上任相關事項  qazwsx879345 10/25\n",
      "[情報] SEASON Schedule 賽程 March 19–20 Acetoxy  3/02\n",
      "[公告] 第一次被退文，可在三天後刪除退文 Vedan  3/09\n",
      "[公告] 板務說明 (發錢) Vedan  4/03\n"
     ]
    }
   ],
   "source": [
    "import requests\n",
    "from bs4 import BeautifulSoup\n",
    "\n",
    "url = 'https://www.ptt.cc/bbs/NBA/index.html'\n",
    "r = requests.get(url)\n",
    "\n",
    "soup = BeautifulSoup(r.text, \"html5lib\")\n",
    "\n",
    "for d in soup.find_all(class_=\"r-ent\"):\n",
    "    print(d.find(class_=\"title\").text.replace('\\t', '').replace('\\n', ''),d.find(class_=\"author\").text,d.find(class_=\"date\").text)\n",
    "\n",
    "    "
   ]
  },
  {
   "cell_type": "code",
   "execution_count": 15,
   "metadata": {},
   "outputs": [
    {
     "name": "stdout",
     "output_type": "stream",
     "text": [
      "標題：  Re: [討論] 哈登適合當建隊基石嗎\n",
      "作者： justgetup (Kono Dio Da!)\n",
      "時間： Wed Jun  3 09:38:43 2020\n",
      "標題：  [新聞] 不是每個紀錄都等著被打破！NBA史上最難\n",
      "作者： Kowloon (九龍艦長)\n",
      "時間： Wed Jun  3 09:51:14 2020\n",
      "標題：  [情報] 本季總冠軍戰G7可能在10月12日開打\n",
      "作者： thnlkj0665 (灰色地帶)\n",
      "時間： Wed Jun  3 11:23:36 2020\n",
      "標題：  [花邊] Wade講到2010年他跟LBJ為何沒跟Rose組隊\n",
      "作者： pneumo (超☆冒險蓋)\n",
      "時間： Wed Jun  3 11:43:14 2020\n",
      "標題：  Re: [新聞] 波波維奇怒批川普「躲在白宮的懦夫」 竟有\n",
      "作者： markwu123 (單身旅記與日光傾城)\n",
      "時間： Wed Jun  3 13:09:18 2020\n",
      "標題：  [情報] 整個90年代沒有三連敗，Jordan帶隊神跡\n",
      "作者： HOlajuwon (Hakeem Olajuwon)\n",
      "時間： Wed Jun  3 13:18:24 2020\n",
      "標題：  [公告] 板規v6.8\n",
      "標題：  [公告] 版主上任相關事項 \n",
      "作者： qazwsx879345 (Rajon Rondo)\n",
      "時間： Fri Oct 25 10:44:03 2019\n",
      "標題：  [情報] SEASON Schedule 賽程 March 19–20\n",
      "作者： Acetoxy (阿斯)\n",
      "時間： Mon Mar  2 01:19:40 2020\n",
      "標題：  [公告] 第一次被退文，可在三天後刪除退文\n",
      "作者： Vedan (味丹)\n",
      "時間： Mon Mar  9 11:44:26 2020\n",
      "標題：  [公告] 板務說明 (發錢)\n",
      "作者： Vedan (味丹)\n",
      "時間： Fri Apr  3 01:28:00 2020\n"
     ]
    }
   ],
   "source": [
    "# 方法二：進入內頁抓\n",
    "for d in soup.find_all(class_=\"title\"):\n",
    "    try:\n",
    "        print('標題： ', d.text.replace('\\t', '').replace('\\n', ''))\n",
    "        r = BeautifulSoup(requests.get('https://www.ptt.cc'+d.find('a')['href']).text, \"html5lib\")\n",
    "        print('作者： ' + r.find(class_='article-meta-value').text)\n",
    "        print('時間： ' + r.find_all(class_='article-meta-value')[-1].text)\n",
    "    except:\n",
    "        continue"
   ]
  },
  {
   "cell_type": "markdown",
   "metadata": {},
   "source": [
    "### ② 印出第一頁所有文章的「作者」「標題」「時間」"
   ]
  },
  {
   "cell_type": "code",
   "execution_count": 18,
   "metadata": {},
   "outputs": [
    {
     "data": {
      "text/plain": [
       "{'標題': '[情報] 整個90年代沒有三連敗，Jordan帶隊神跡',\n",
       " '作者': 'HOlajuwon (Hakeem Olajuwon)',\n",
       " '時間': 'Wed Jun  3 13:18:24 2020'}"
      ]
     },
     "execution_count": 18,
     "metadata": {},
     "output_type": "execute_result"
    }
   ],
   "source": [
    "posts =[]\n",
    "for d in soup.find_all(class_=\"title\"):\n",
    "    try:\n",
    "        post = {}\n",
    "        post['標題'] = d.text.replace('\\t', '').replace('\\n', '')\n",
    "        r = BeautifulSoup(requests.get('https://www.ptt.cc'+d.find('a')['href']).text, \"html5lib\")\n",
    "        post['作者'] = r.find(class_='article-meta-value').text\n",
    "        post['時間'] = r.find_all(class_='article-meta-value')[-1].text\n",
    "        posts.append(post)\n",
    "    except:\n",
    "        continue# 方法二：進入內頁抓\n",
    "\n",
    "posts = sorted(posts, key= lambda x: x['時間'])\n",
    "# 補充：List of Dict 的排序方法\n",
    "# https://stackoverflow.com/questions/72899/how-do-i-sort-a-list-of-dictionaries-by-a-value-of-the-dictionary\n",
    "posts[-1]"
   ]
  },
  {
   "cell_type": "markdown",
   "metadata": {},
   "source": [
    "### ③ 試著爬爬看其他版的文章"
   ]
  },
  {
   "cell_type": "code",
   "execution_count": 20,
   "metadata": {},
   "outputs": [
    {
     "data": {
      "text/plain": [
       "{'標題': '[問卦] 有土斯有財 有錢買房是不是不如買土??',\n",
       " '作者': 'akuan413 (...)',\n",
       " '時間': 'Wed Jun  3 14:30:29 2020'}"
      ]
     },
     "execution_count": 20,
     "metadata": {},
     "output_type": "execute_result"
    }
   ],
   "source": [
    "# 改成 Gossiping 版，發生錯誤，因為八卦版會跳轉到一個「十八歲的同意驗證頁面」導致錯誤。\n",
    "# 參考圖片下載時的解法，加上 cookies 繞過驗證（後面課程會再進行補充）\n",
    "\n",
    "\n",
    "import requests\n",
    "from bs4 import BeautifulSoup\n",
    "\n",
    "url = 'https://www.ptt.cc/bbs/Gossiping/index.html'\n",
    "r = requests.get(url, cookies={'over18': '1'})\n",
    "\n",
    "soup = BeautifulSoup(r.text, \"html5lib\")\n",
    "\n",
    "posts = []\n",
    "\n",
    "for d in soup.find_all(class_=\"title\"):\n",
    "    try:\n",
    "        post = {}\n",
    "        post['標題'] = d.text.replace('\\t', '').replace('\\n', '')\n",
    "        \n",
    "        r = BeautifulSoup(requests.get('https://www.ptt.cc'+d.find('a')['href'], cookies={'over18': '1'}).text, \"html5lib\")\n",
    "        post['作者'] = r.find(class_='article-meta-value').text\n",
    "        post['時間'] = r.find_all(class_='article-meta-value')[-1].text\n",
    "        \n",
    "        posts.append(post)\n",
    "    except:\n",
    "        continue\n",
    "        \n",
    "posts = sorted(posts, key= lambda x: x['時間'])\n",
    "posts[-1]"
   ]
  },
  {
   "cell_type": "code",
   "execution_count": null,
   "metadata": {},
   "outputs": [],
   "source": []
  }
 ],
 "metadata": {
  "kernelspec": {
   "display_name": "Python 3",
   "language": "python",
   "name": "python3"
  },
  "language_info": {
   "codemirror_mode": {
    "name": "ipython",
    "version": 3
   },
   "file_extension": ".py",
   "mimetype": "text/x-python",
   "name": "python",
   "nbconvert_exporter": "python",
   "pygments_lexer": "ipython3",
   "version": "3.7.4"
  }
 },
 "nbformat": 4,
 "nbformat_minor": 2
}
